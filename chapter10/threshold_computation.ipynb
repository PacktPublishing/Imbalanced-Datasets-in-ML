{
 "cells": [
  {
   "cell_type": "markdown",
   "metadata": {
    "colab_type": "text",
    "id": "view-in-github"
   },
   "source": [
    "<a href=\"https://colab.research.google.com/github/kumar-abhishek/imbalanced-machine-learning-book/blob/chapter-5a/chapter-5a/threshold_computation.ipynb\" target=\"_parent\"><img src=\"https://colab.research.google.com/assets/colab-badge.svg\" alt=\"Open In Colab\"/></a>"
   ]
  },
  {
   "cell_type": "code",
   "execution_count": 2,
   "metadata": {
    "id": "bDXyrsc-qU45"
   },
   "outputs": [],
   "source": [
    "%%capture\n",
    "# !pip3 install xgboost==1.6.1 imbalanced-learn==0.9.1 seaborn==0.12.1"
   ]
  },
  {
   "cell_type": "code",
   "execution_count": 3,
   "metadata": {
    "id": "JNsTImaZ3idL"
   },
   "outputs": [],
   "source": [
    "import pandas as pd\n",
    "import matplotlib.pyplot as plt\n",
    "import numpy as np\n",
    "import seaborn as sns\n",
    "\n",
    "from sklearn.datasets import make_classification\n",
    "from sklearn.model_selection import train_test_split\n",
    "\n",
    "np.set_printoptions(suppress=True)"
   ]
  },
  {
   "cell_type": "markdown",
   "metadata": {
    "id": "0jay5T6y4Qd2"
   },
   "source": [
    "## Synthetic data set prep:"
   ]
  },
  {
   "cell_type": "markdown",
   "metadata": {
    "id": "kt0BU1tJ4UeS"
   },
   "source": [
    "## Real world data set"
   ]
  },
  {
   "cell_type": "code",
   "execution_count": 4,
   "metadata": {
    "id": "oTR8eXKJ3q9F"
   },
   "outputs": [],
   "source": [
    "# Abalone dataset, and thyroid dataset\n",
    "from imblearn.datasets import fetch_datasets\n",
    "\n",
    "# these datasets are baked into imbalanced-learn\n",
    "# dataset_list = ['thyroid_sick']"
   ]
  },
  {
   "cell_type": "code",
   "execution_count": 32,
   "metadata": {
    "colab": {
     "base_uri": "https://localhost:8080/"
    },
    "id": "JplOW1dI3q6k",
    "outputId": "141a7211-cdef-43b8-80c8-0efa283035a4"
   },
   "outputs": [
    {
     "name": "stdout",
     "output_type": "stream",
     "text": [
      "Counter({0: 9847, 1: 153})\n"
     ]
    }
   ],
   "source": [
    "# print class imbalance of each dataset\n",
    "from collections import Counter\n",
    "from sklearn.preprocessing import LabelEncoder\n",
    "\n",
    "le = LabelEncoder()\n",
    "\n",
    "# data = fetch_datasets()['thyroid_sick']\n",
    "# y = le.fit_transform(data['target'])\n",
    "X, y = make_classification(\n",
    "    n_samples=10000,\n",
    "    n_features=2,\n",
    "    n_redundant=0,\n",
    "    n_clusters_per_class=1,\n",
    "    weights=[0.99],\n",
    "    class_sep=2,  # how separate the classes are\n",
    "    random_state=0,\n",
    ")\n",
    "\n",
    "print(Counter(y))"
   ]
  },
  {
   "cell_type": "code",
   "execution_count": 39,
   "metadata": {
    "colab": {
     "base_uri": "https://localhost:8080/",
     "height": 296
    },
    "id": "Q6K7v2VK59WL",
    "outputId": "9c5bd798-499b-4002-99c5-9ef0a7d987fc"
   },
   "outputs": [
    {
     "name": "stdout",
     "output_type": "stream",
     "text": [
      "auc_score:  0.5860122630706436\n"
     ]
    },
    {
     "data": {
      "image/png": "[encoded data removed]",
      "text/plain": [
       "<Figure size 432x288 with 1 Axes>"
      ]
     },
     "metadata": {
      "needs_background": "light"
     },
     "output_type": "display_data"
    }
   ],
   "source": [
    "# function to train random forests and evaluate the performance\n",
    "from sklearn.model_selection import train_test_split\n",
    "from sklearn.linear_model import LogisticRegression\n",
    "from sklearn.metrics import precision_recall_curve, auc\n",
    "from matplotlib import pyplot\n",
    "\n",
    "X_train, X_test, y_train, y_test = train_test_split(\n",
    "    X, y, test_size=0.1, random_state=0, stratify=y\n",
    ")\n",
    "lr = LogisticRegression(max_iter=1000)\n",
    "lr.fit(X_train, y_train)\n",
    "y_pred = lr.predict_proba(X_test)\n",
    "y_pred = y_pred[:, 1]\n",
    "\n",
    "# fpr, tpr, thresholds = roc_curve(y_test, y_pred)\n",
    "precision, recall, thresholds = precision_recall_curve(y_test, y_pred)\n",
    "pyplot.plot(recall, precision, marker=\".\", label=\"LogisticRegression\")\n",
    "pyplot.xlabel(\"recall\")\n",
    "pyplot.ylabel(\"precision\")\n",
    "print(\"auc_score: \", auc(recall, precision))"
   ]
  },
  {
   "cell_type": "markdown",
   "metadata": {
    "id": "R2lp4OFHjv8Y"
   },
   "source": [
    "# Let's try to find the most optimal threshold by optimizing the fscore metric which is defined as the harmonic mean of precision and recall\n"
   ]
  },
  {
   "cell_type": "markdown",
   "metadata": {
    "id": "y10tsC1jlKB2"
   },
   "source": [
    "We try to maximize gmeans"
   ]
  },
  {
   "cell_type": "code",
   "execution_count": 65,
   "metadata": {
    "colab": {
     "base_uri": "https://localhost:8080/",
     "height": 314
    },
    "id": "cuhtxMrwdNwC",
    "outputId": "57307a42-6456-4e51-fce1-fce78a8d0393"
   },
   "outputs": [
    {
     "name": "stdout",
     "output_type": "stream",
     "text": [
      "max_fscores_idx:  868  | max(fscore):  0.6956521739130436  | best threshold:  0.8688688688688688\n",
      "auc_score:  0.5860122630706436\n"
     ]
    },
    {
     "data": {
      "image/png": "[encoded data removed]",
      "text/plain": [
       "<Figure size 432x288 with 1 Axes>"
      ]
     },
     "metadata": {
      "needs_background": "light"
     },
     "output_type": "display_data"
    }
   ],
   "source": [
    "from numpy import argmax\n",
    "\n",
    "fscore = 2 * precision * recall / (precision + recall)\n",
    "\n",
    "max_fscore_idx = argmax(fscore)\n",
    "print(\n",
    "    \"max_fscores_idx: \",\n",
    "    max_fscore_idx,\n",
    "    \" | max(fscore): \",\n",
    "    fscore[max_fscore_idx],\n",
    "    \" | best threshold: \",\n",
    "    thresholds[max_fscore_idx],\n",
    ")\n",
    "\n",
    "pyplot.plot(\n",
    "    recall, precision, marker=\".\", label=\"precision vs recall for various thresholds\"\n",
    ")\n",
    "result = pyplot.scatter(\n",
    "    recall[max_fscore_idx],\n",
    "    precision[max_fscore_idx],\n",
    "    marker=\"x\",\n",
    "    color=\"red\",\n",
    "    label=\"Best threshold with highest f1-score\",\n",
    ")\n",
    "plt.legend(\n",
    "    handles=result.legend_elements()[0],\n",
    "    labels=\"legend\",\n",
    "    loc=\"upper center\",\n",
    "    bbox_to_anchor=(1, 1),\n",
    ")\n",
    "\n",
    "pyplot.xlabel(\"recall\")\n",
    "pyplot.ylabel(\"precision\")\n",
    "\n",
    "print(\"auc_score: \", auc(recall, precision))"
   ]
  },
  {
   "cell_type": "markdown",
   "metadata": {
    "id": "4gh0825wmP5L"
   },
   "source": [
    "Similarly for precision recall curve, we can optimize the F-score which is the harmonic mean of precision and recall"
   ]
  },
  {
   "cell_type": "markdown",
   "metadata": {
    "id": "C_GzwmFCmXXf"
   },
   "source": [
    "Let's assume we have a custom metric to optimize, then we can write a custom function to find the threshold that optimizes that metric."
   ]
  },
  {
   "cell_type": "code",
   "execution_count": 50,
   "metadata": {
    "colab": {
     "base_uri": "https://localhost:8080/"
    },
    "id": "dxjCYsTsdNqX",
    "outputId": "e2106827-50e5-431a-b67b-b55c8cb537b2"
   },
   "outputs": [
    {
     "name": "stdout",
     "output_type": "stream",
     "text": [
      "max_score_idx=93, Threshold=0.093093, F-measure=0.695652\n"
     ]
    }
   ],
   "source": [
    "from numpy import arange\n",
    "from sklearn.metrics import f1_score\n",
    "\n",
    "\n",
    "def custom_metric(y_test, y_pred_labels):\n",
    "    return f1_score(y_test, y_pred_labels)\n",
    "\n",
    "\n",
    "def to_labels(pos_probs, threshold):\n",
    "    return (pos_probs >= threshold).astype(int)\n",
    "\n",
    "\n",
    "thresholds = np.linspace(start=0, stop=1, num=len(y_test))\n",
    "\n",
    "scores = [custom_metric(y_test, to_labels(y_pred, t)) for t in thresholds]\n",
    "max_score_idx = argmax(scores)\n",
    "\n",
    "print(\n",
    "    \"max_score_idx=%d, Threshold=%f, F-measure=%f\"\n",
    "    % (max_score_idx, thresholds[max_score_idx], scores[max_score_idx])\n",
    ")"
   ]
  },
  {
   "cell_type": "code",
   "execution_count": 11,
   "metadata": {
    "id": "8I_LNewfsS44"
   },
   "outputs": [],
   "source": []
  }
 ],
 "metadata": {
  "colab": {
   "include_colab_link": true,
   "provenance": []
  },
  "kernelspec": {
   "display_name": "Python 3.10.5 ('mybookenv')",
   "language": "python",
   "name": "python3"
  },
  "language_info": {
   "codemirror_mode": {
    "name": "ipython",
    "version": 3
   },
   "file_extension": ".py",
   "mimetype": "text/x-python",
   "name": "python",
   "nbconvert_exporter": "python",
   "pygments_lexer": "ipython3",
   "version": "3.10.5"
  },
  "vscode": {
   "interpreter": {
    "hash": "cb2d2fc4b112057317bd15bc3b7b4ae656e7b99222edf782e016cdf8d39e8a7d"
   }
  }
 },
 "nbformat": 4,
 "nbformat_minor": 0
}